{
 "cells": [
  {
   "cell_type": "markdown",
   "metadata": {},
   "source": [
    "The main categories of machine learning are:\n",
    "  - 1) Supervised learning \n",
    "  - 2) Unsupervised learning\n",
    "\n",
    "\n",
    "Regression and classification. These are both types of supervised machine learning. In supervised learning, we can train an algorithm to predict an unknown variable from known variables.\n",
    "\n",
    "In unsupervised learning we're finding patterns in data.One of the main unsupervised learning techniques is called clustering. We use clustering when we're trying to explore a dataset, and understand the connections between the various rows and columns. Clustering algorithms group similar rows together. There can be one or more groups in the data, and these groups form the clusters.\n",
    "\n",
    "Going to work on clustering US Senators based on how they voted.\n",
    "\n",
    "In the United States there are two main political parties 1)Democrats 2) Repbulicans, the senates votes on proposed legislation.The bill has to be voted on by both houses of Congress,A majority vote is required to get a bill passed.Senators typically vote in accordance with how their political party votes, known as voting along party lines. Clustering voting data of Senators is particularly interesting because it can expose patterns that go deeper than party affiliation.some senators choose to  unaffiliated with a party,and votes independent"
   ]
  },
  {
   "cell_type": "code",
   "execution_count": 22,
   "metadata": {},
   "outputs": [
    {
     "data": {
      "text/html": [
       "<div>\n",
       "<style scoped>\n",
       "    .dataframe tbody tr th:only-of-type {\n",
       "        vertical-align: middle;\n",
       "    }\n",
       "\n",
       "    .dataframe tbody tr th {\n",
       "        vertical-align: top;\n",
       "    }\n",
       "\n",
       "    .dataframe thead th {\n",
       "        text-align: right;\n",
       "    }\n",
       "</style>\n",
       "<table border=\"1\" class=\"dataframe\">\n",
       "  <thead>\n",
       "    <tr style=\"text-align: right;\">\n",
       "      <th></th>\n",
       "      <th>name</th>\n",
       "      <th>party</th>\n",
       "      <th>state</th>\n",
       "      <th>00001</th>\n",
       "      <th>00004</th>\n",
       "      <th>00005</th>\n",
       "      <th>00006</th>\n",
       "      <th>00007</th>\n",
       "      <th>00008</th>\n",
       "      <th>00009</th>\n",
       "      <th>00010</th>\n",
       "      <th>00020</th>\n",
       "      <th>00026</th>\n",
       "      <th>00032</th>\n",
       "      <th>00038</th>\n",
       "      <th>00039</th>\n",
       "      <th>00044</th>\n",
       "      <th>00047</th>\n",
       "    </tr>\n",
       "  </thead>\n",
       "  <tbody>\n",
       "    <tr>\n",
       "      <th>0</th>\n",
       "      <td>Alexander</td>\n",
       "      <td>R</td>\n",
       "      <td>TN</td>\n",
       "      <td>0.0</td>\n",
       "      <td>1.0</td>\n",
       "      <td>1.0</td>\n",
       "      <td>1.0</td>\n",
       "      <td>1.0</td>\n",
       "      <td>0.0</td>\n",
       "      <td>0.0</td>\n",
       "      <td>1.0</td>\n",
       "      <td>1.0</td>\n",
       "      <td>1.0</td>\n",
       "      <td>0.0</td>\n",
       "      <td>0.0</td>\n",
       "      <td>0.0</td>\n",
       "      <td>0.0</td>\n",
       "      <td>0.0</td>\n",
       "    </tr>\n",
       "    <tr>\n",
       "      <th>1</th>\n",
       "      <td>Ayotte</td>\n",
       "      <td>R</td>\n",
       "      <td>NH</td>\n",
       "      <td>0.0</td>\n",
       "      <td>1.0</td>\n",
       "      <td>1.0</td>\n",
       "      <td>1.0</td>\n",
       "      <td>1.0</td>\n",
       "      <td>0.0</td>\n",
       "      <td>0.0</td>\n",
       "      <td>1.0</td>\n",
       "      <td>0.0</td>\n",
       "      <td>1.0</td>\n",
       "      <td>0.0</td>\n",
       "      <td>1.0</td>\n",
       "      <td>0.0</td>\n",
       "      <td>1.0</td>\n",
       "      <td>0.0</td>\n",
       "    </tr>\n",
       "    <tr>\n",
       "      <th>2</th>\n",
       "      <td>Baldwin</td>\n",
       "      <td>D</td>\n",
       "      <td>WI</td>\n",
       "      <td>1.0</td>\n",
       "      <td>0.0</td>\n",
       "      <td>0.0</td>\n",
       "      <td>1.0</td>\n",
       "      <td>0.0</td>\n",
       "      <td>1.0</td>\n",
       "      <td>0.0</td>\n",
       "      <td>1.0</td>\n",
       "      <td>0.0</td>\n",
       "      <td>0.0</td>\n",
       "      <td>1.0</td>\n",
       "      <td>1.0</td>\n",
       "      <td>0.0</td>\n",
       "      <td>1.0</td>\n",
       "      <td>1.0</td>\n",
       "    </tr>\n",
       "    <tr>\n",
       "      <th>3</th>\n",
       "      <td>Barrasso</td>\n",
       "      <td>R</td>\n",
       "      <td>WY</td>\n",
       "      <td>0.0</td>\n",
       "      <td>1.0</td>\n",
       "      <td>1.0</td>\n",
       "      <td>1.0</td>\n",
       "      <td>1.0</td>\n",
       "      <td>0.0</td>\n",
       "      <td>1.0</td>\n",
       "      <td>1.0</td>\n",
       "      <td>1.0</td>\n",
       "      <td>1.0</td>\n",
       "      <td>0.0</td>\n",
       "      <td>0.0</td>\n",
       "      <td>1.0</td>\n",
       "      <td>0.0</td>\n",
       "      <td>0.0</td>\n",
       "    </tr>\n",
       "    <tr>\n",
       "      <th>4</th>\n",
       "      <td>Bennet</td>\n",
       "      <td>D</td>\n",
       "      <td>CO</td>\n",
       "      <td>0.0</td>\n",
       "      <td>0.0</td>\n",
       "      <td>0.0</td>\n",
       "      <td>1.0</td>\n",
       "      <td>0.0</td>\n",
       "      <td>1.0</td>\n",
       "      <td>0.0</td>\n",
       "      <td>1.0</td>\n",
       "      <td>0.0</td>\n",
       "      <td>0.0</td>\n",
       "      <td>0.0</td>\n",
       "      <td>1.0</td>\n",
       "      <td>0.0</td>\n",
       "      <td>1.0</td>\n",
       "      <td>0.0</td>\n",
       "    </tr>\n",
       "  </tbody>\n",
       "</table>\n",
       "</div>"
      ],
      "text/plain": [
       "        name party state  00001  00004  00005  00006  00007  00008  00009  \\\n",
       "0  Alexander     R    TN    0.0    1.0    1.0    1.0    1.0    0.0    0.0   \n",
       "1     Ayotte     R    NH    0.0    1.0    1.0    1.0    1.0    0.0    0.0   \n",
       "2    Baldwin     D    WI    1.0    0.0    0.0    1.0    0.0    1.0    0.0   \n",
       "3   Barrasso     R    WY    0.0    1.0    1.0    1.0    1.0    0.0    1.0   \n",
       "4     Bennet     D    CO    0.0    0.0    0.0    1.0    0.0    1.0    0.0   \n",
       "\n",
       "   00010  00020  00026  00032  00038  00039  00044  00047  \n",
       "0    1.0    1.0    1.0    0.0    0.0    0.0    0.0    0.0  \n",
       "1    1.0    0.0    1.0    0.0    1.0    0.0    1.0    0.0  \n",
       "2    1.0    0.0    0.0    1.0    1.0    0.0    1.0    1.0  \n",
       "3    1.0    1.0    1.0    0.0    0.0    1.0    0.0    0.0  \n",
       "4    1.0    0.0    0.0    0.0    1.0    0.0    1.0    0.0  "
      ]
     },
     "execution_count": 22,
     "metadata": {},
     "output_type": "execute_result"
    }
   ],
   "source": [
    "import pandas as pd\n",
    "from sklearn.metrics.pairwise import euclidean_distances\n",
    "from sklearn.cluster import KMeans\n",
    "import matplotlib.pyplot as plt\n",
    "votes =pd.read_csv(\"114_congress.csv\")\n",
    "votes.head()"
   ]
  },
  {
   "cell_type": "code",
   "execution_count": 14,
   "metadata": {},
   "outputs": [
    {
     "name": "stdout",
     "output_type": "stream",
     "text": [
      "<class 'pandas.core.frame.DataFrame'>\n",
      "RangeIndex: 100 entries, 0 to 99\n",
      "Data columns (total 18 columns):\n",
      "name     100 non-null object\n",
      "party    100 non-null object\n",
      "state    100 non-null object\n",
      "00001    100 non-null float64\n",
      "00004    100 non-null float64\n",
      "00005    100 non-null float64\n",
      "00006    100 non-null float64\n",
      "00007    100 non-null float64\n",
      "00008    100 non-null float64\n",
      "00009    100 non-null float64\n",
      "00010    100 non-null float64\n",
      "00020    100 non-null float64\n",
      "00026    100 non-null float64\n",
      "00032    100 non-null float64\n",
      "00038    100 non-null float64\n",
      "00039    100 non-null float64\n",
      "00044    100 non-null float64\n",
      "00047    100 non-null float64\n",
      "dtypes: float64(15), object(3)\n",
      "memory usage: 14.1+ KB\n"
     ]
    },
    {
     "data": {
      "text/plain": [
       "(100, 18)"
      ]
     },
     "execution_count": 14,
     "metadata": {},
     "output_type": "execute_result"
    }
   ],
   "source": [
    "votes.info()\n",
    "votes.shape"
   ]
  },
  {
   "cell_type": "code",
   "execution_count": 3,
   "metadata": {
    "scrolled": false
   },
   "outputs": [
    {
     "name": "stdout",
     "output_type": "stream",
     "text": [
      "R    54\n",
      "D    44\n",
      "I     2\n",
      "Name: party, dtype: int64\n",
      "00001    0.325\n",
      "00004    0.575\n",
      "00005    0.535\n",
      "00006    0.945\n",
      "00007    0.545\n",
      "00008    0.415\n",
      "00009    0.545\n",
      "00010    0.985\n",
      "00020    0.525\n",
      "00026    0.545\n",
      "00032    0.410\n",
      "00038    0.480\n",
      "00039    0.510\n",
      "00044    0.460\n",
      "00047    0.370\n",
      "dtype: float64\n"
     ]
    }
   ],
   "source": [
    "print(votes['party'].value_counts())\n",
    "print(votes.mean())"
   ]
  },
  {
   "attachments": {
    "image.png": {
     "image/png": "[encoded data removed]"
    }
   },
   "cell_type": "markdown",
   "metadata": {},
   "source": [
    "We can find theho similar the senator's votes are by using the euclidean distance we can find the distance between two rows:\n",
    "![image.png](attachment:image.png)\n",
    "\n",
    "By using the euclidean_distances() method in the scikit-learn library, we can calculate the distance between the first row and the second row."
   ]
  },
  {
   "cell_type": "code",
   "execution_count": 26,
   "metadata": {
    "scrolled": false
   },
   "outputs": [
    {
     "name": "stdout",
     "output_type": "stream",
     "text": [
      "[[1.73205081]]\n",
      "[[3.31662479]]\n"
     ]
    }
   ],
   "source": [
    "print(euclidean_distances(votes.iloc[0,3:].values.reshape(1, -1), votes.iloc[1,3:].values.reshape(1, -1)))\n",
    "distances =print(euclidean_distances(votes.iloc[0,3:].values.reshape(1,-1),\n",
    "votes.iloc[2,3:].values.reshape(1,-1)))"
   ]
  },
  {
   "cell_type": "markdown",
   "metadata": {},
   "source": [
    "#### K-means algorithm\n",
    "\n",
    "k-means algorithm will split the data in to clusters,  k-means clustering uses euclidean distances to form clusters of similar rows.\n",
    "\n",
    "Here in US senators dataset the k-mean algorithm will split the data into clusters, will group Senators who vote similarly on bills together, in clusters, Each cluster is assigned a center and the euclidean distance from each Senator to the center is computed. Senators are assigned to clusters based on which one they are closest to\n",
    "\n",
    "Here  [KMeans ](https://scikit-learn.org/stable/modules/generated/sklearn.cluster.KMeans.html#sklearn.cluster.KMeans.fit_transform)class from scikit-learn to perform the clustering\n",
    "\n",
    "    "
   ]
  },
  {
   "cell_type": "markdown",
   "metadata": {},
   "source": [
    "KMeans(n_clusters=2, random_state=1) \n",
    "\n",
    " - n_clusters=2 : means here in the dataset the senators are fromtwo parties one is Republicans and Democrats, so  we need to form to clusters\n",
    " - random_state = 1 when we set to 1 we can generate same sample whenever we're running\n",
    " \n",
    "- fit_transform() method will fit the votes and calculate the distance of each row to each clusters, Here in this dataset it will calculate the distance of each sentors to each clusters.\n",
    "\n",
    "\n",
    " "
   ]
  },
  {
   "cell_type": "code",
   "execution_count": 16,
   "metadata": {
    "scrolled": false
   },
   "outputs": [
    {
     "data": {
      "text/plain": [
       "array([[3.12141628, 1.3134775 ],\n",
       "       [2.6146248 , 2.05339992],\n",
       "       [0.33960656, 3.41651746],\n",
       "       [3.42004795, 0.24198446],\n",
       "       [1.43833966, 2.96866004],\n",
       "       [0.33960656, 3.41651746],\n",
       "       [3.42004795, 0.24198446],\n",
       "       [0.33960656, 3.41651746],\n",
       "       [3.42004795, 0.24198446],\n",
       "       [0.31287498, 3.30758755],\n",
       "       [0.33960656, 3.41651746],\n",
       "       [3.27058526, 0.96734144],\n",
       "       [0.33960656, 3.41651746],\n",
       "       [3.34875646, 0.53945585],\n",
       "       [0.33960656, 3.41651746],\n",
       "       [1.18084816, 3.12695614],\n",
       "       [1.23852221, 3.13536063],\n",
       "       [3.42004795, 0.24198446],\n",
       "       [3.42004795, 0.24198446],\n",
       "       [3.42004795, 0.24198446],\n",
       "       [2.6146248 , 2.05339992],\n",
       "       [0.58487332, 3.31421108],\n",
       "       [3.42004795, 0.24198446],\n",
       "       [3.42004795, 0.24198446],\n",
       "       [3.42004795, 0.24198446],\n",
       "       [3.42004795, 0.24198446],\n",
       "       [3.56324683, 0.93036231],\n",
       "       [3.42004795, 0.24198446],\n",
       "       [1.73847904, 2.82326711],\n",
       "       [0.33960656, 3.41651746],\n",
       "       [3.42004795, 0.24198446],\n",
       "       [3.42004795, 0.24198446],\n",
       "       [0.33960656, 3.41651746],\n",
       "       [3.42004795, 0.24198446],\n",
       "       [3.42004795, 0.24198446],\n",
       "       [0.58487332, 3.31421108],\n",
       "       [3.27058526, 0.92088553],\n",
       "       [0.33960656, 3.41651746],\n",
       "       [3.19687093, 0.64668818],\n",
       "       [3.42004795, 0.24198446],\n",
       "       [3.42004795, 0.24198446],\n",
       "       [0.76187197, 3.27225905],\n",
       "       [2.3965057 , 2.27626086],\n",
       "       [3.28477567, 0.93974352],\n",
       "       [0.33960656, 3.41651746],\n",
       "       [3.42004795, 0.24198446],\n",
       "       [3.42004795, 0.24198446],\n",
       "       [3.42004795, 0.24198446],\n",
       "       [3.42004795, 0.24198446],\n",
       "       [0.88867948, 3.27225905],\n",
       "       [0.76187197, 3.27225905],\n",
       "       [3.01916091, 1.66141833],\n",
       "       [1.12020868, 3.12134058],\n",
       "       [3.56324683, 0.93036231],\n",
       "       [0.33960656, 3.41651746],\n",
       "       [3.34962442, 1.10689798],\n",
       "       [2.78266771, 1.88408719],\n",
       "       [0.33960656, 3.41651746],\n",
       "       [3.42004795, 0.24198446],\n",
       "       [1.71151573, 2.80456307],\n",
       "       [3.42004795, 0.24198446],\n",
       "       [0.33960656, 3.41651746],\n",
       "       [0.33960656, 3.41651746],\n",
       "       [0.33960656, 3.41651746],\n",
       "       [3.42004795, 0.24198446],\n",
       "       [3.42004795, 0.24198446],\n",
       "       [0.33960656, 3.41651746],\n",
       "       [0.33960656, 3.41651746],\n",
       "       [1.01109315, 3.2936348 ],\n",
       "       [3.56324683, 0.93036231],\n",
       "       [3.42004795, 0.24198446],\n",
       "       [0.76187197, 3.27225905],\n",
       "       [3.42004795, 0.24198446],\n",
       "       [0.33960656, 3.41651746],\n",
       "       [1.77652196, 1.72996156],\n",
       "       [3.42004795, 0.24198446],\n",
       "       [3.42004795, 0.24198446],\n",
       "       [3.42004795, 0.24198446],\n",
       "       [2.87211656, 0.98753387],\n",
       "       [0.33960656, 3.41651746],\n",
       "       [3.56324683, 0.93036231],\n",
       "       [0.33960656, 3.41651746],\n",
       "       [0.33960656, 3.41651746],\n",
       "       [3.42004795, 0.24198446],\n",
       "       [3.42004795, 0.24198446],\n",
       "       [0.33960656, 3.41651746],\n",
       "       [3.42004795, 0.24198446],\n",
       "       [0.76187197, 3.27225905],\n",
       "       [3.42004795, 0.24198446],\n",
       "       [1.71151573, 2.80456307],\n",
       "       [3.42004795, 0.24198446],\n",
       "       [3.42004795, 0.24198446],\n",
       "       [3.42004795, 0.24198446],\n",
       "       [0.33960656, 3.41651746],\n",
       "       [3.42004795, 0.24198446],\n",
       "       [1.32031799, 3.118529  ],\n",
       "       [0.33960656, 3.41651746],\n",
       "       [0.33960656, 3.41651746],\n",
       "       [3.56324683, 1.00295807],\n",
       "       [0.33960656, 3.41651746]])"
      ]
     },
     "execution_count": 16,
     "metadata": {},
     "output_type": "execute_result"
    }
   ],
   "source": [
    "kmean_model= KMeans(n_clusters=2,random_state=1)\n",
    "model_transform= kmean_model.fit_transform(votes.iloc[:,3:])\n",
    "model_transform"
   ]
  },
  {
   "cell_type": "markdown",
   "metadata": {},
   "source": [
    "The result above is NumPy array with two columns.The first column is the Euclidean distance from each Senator to the first cluster, and the second column is the Euclidean distance to the the second cluster. The values in the columns will indicate how \"far\" the Senator is from each cluster. The further away from the cluster, the less the Senator's voting history aligns with the voting history of the cluster."
   ]
  },
  {
   "cell_type": "code",
   "execution_count": 18,
   "metadata": {
    "scrolled": true
   },
   "outputs": [
    {
     "name": "stdout",
     "output_type": "stream",
     "text": [
      "party   D  I   R\n",
      "row_0           \n",
      "0      41  2   0\n",
      "1       3  0  54\n"
     ]
    }
   ],
   "source": [
    "labels=kmean_model.labels_\n",
    "print(pd.crosstab(labels, votes['party']))"
   ]
  },
  {
   "cell_type": "code",
   "execution_count": 20,
   "metadata": {},
   "outputs": [
    {
     "name": "stdout",
     "output_type": "stream",
     "text": [
      "        name party state  00001  00004  00005  00006  00007  00008  00009  \\\n",
      "42  Heitkamp     D    ND    0.0    1.0    0.0    1.0    0.0    0.0    1.0   \n",
      "56   Manchin     D    WV    0.0    1.0    0.0    1.0    0.0    0.0    1.0   \n",
      "74      Reid     D    NV    0.5    0.5    0.5    0.5    0.5    0.5    0.5   \n",
      "\n",
      "    00010  00020  00026  00032  00038  00039  00044  00047  \n",
      "42    1.0    0.0    0.0    0.0    1.0    0.0    0.0    0.0  \n",
      "56    1.0    1.0    0.0    0.0    1.0    1.0    0.0    0.0  \n",
      "74    0.5    0.5    0.5    0.5    0.5    0.5    0.5    0.5  \n"
     ]
    }
   ],
   "source": [
    "democratic_outliers =  votes[(labels==1)&(votes['party']==\"D\")]\n",
    "print(democratic_outliers)"
   ]
  },
  {
   "cell_type": "code",
   "execution_count": 19,
   "metadata": {
    "scrolled": true
   },
   "outputs": [
    {
     "data": {
      "text/html": [
       "<div>\n",
       "<style scoped>\n",
       "    .dataframe tbody tr th:only-of-type {\n",
       "        vertical-align: middle;\n",
       "    }\n",
       "\n",
       "    .dataframe tbody tr th {\n",
       "        vertical-align: top;\n",
       "    }\n",
       "\n",
       "    .dataframe thead th {\n",
       "        text-align: right;\n",
       "    }\n",
       "</style>\n",
       "<table border=\"1\" class=\"dataframe\">\n",
       "  <thead>\n",
       "    <tr style=\"text-align: right;\">\n",
       "      <th></th>\n",
       "      <th>name</th>\n",
       "      <th>party</th>\n",
       "      <th>state</th>\n",
       "      <th>00001</th>\n",
       "      <th>00004</th>\n",
       "      <th>00005</th>\n",
       "      <th>00006</th>\n",
       "      <th>00007</th>\n",
       "      <th>00008</th>\n",
       "      <th>00009</th>\n",
       "      <th>00010</th>\n",
       "      <th>00020</th>\n",
       "      <th>00026</th>\n",
       "      <th>00032</th>\n",
       "      <th>00038</th>\n",
       "      <th>00039</th>\n",
       "      <th>00044</th>\n",
       "      <th>00047</th>\n",
       "    </tr>\n",
       "  </thead>\n",
       "  <tbody>\n",
       "    <tr>\n",
       "      <th>50</th>\n",
       "      <td>King</td>\n",
       "      <td>I</td>\n",
       "      <td>ME</td>\n",
       "      <td>0.0</td>\n",
       "      <td>0.0</td>\n",
       "      <td>0.0</td>\n",
       "      <td>1.0</td>\n",
       "      <td>0.0</td>\n",
       "      <td>1.0</td>\n",
       "      <td>0.0</td>\n",
       "      <td>1.0</td>\n",
       "      <td>0.0</td>\n",
       "      <td>0.0</td>\n",
       "      <td>1.0</td>\n",
       "      <td>1.0</td>\n",
       "      <td>0.0</td>\n",
       "      <td>1.0</td>\n",
       "      <td>1.0</td>\n",
       "    </tr>\n",
       "    <tr>\n",
       "      <th>79</th>\n",
       "      <td>Sanders</td>\n",
       "      <td>I</td>\n",
       "      <td>VT</td>\n",
       "      <td>1.0</td>\n",
       "      <td>0.0</td>\n",
       "      <td>0.0</td>\n",
       "      <td>1.0</td>\n",
       "      <td>0.0</td>\n",
       "      <td>1.0</td>\n",
       "      <td>0.0</td>\n",
       "      <td>1.0</td>\n",
       "      <td>0.0</td>\n",
       "      <td>0.0</td>\n",
       "      <td>1.0</td>\n",
       "      <td>1.0</td>\n",
       "      <td>0.0</td>\n",
       "      <td>1.0</td>\n",
       "      <td>1.0</td>\n",
       "    </tr>\n",
       "  </tbody>\n",
       "</table>\n",
       "</div>"
      ],
      "text/plain": [
       "       name party state  00001  00004  00005  00006  00007  00008  00009  \\\n",
       "50     King     I    ME    0.0    0.0    0.0    1.0    0.0    1.0    0.0   \n",
       "79  Sanders     I    VT    1.0    0.0    0.0    1.0    0.0    1.0    0.0   \n",
       "\n",
       "    00010  00020  00026  00032  00038  00039  00044  00047  \n",
       "50    1.0    0.0    0.0    1.0    1.0    0.0    1.0    1.0  \n",
       "79    1.0    0.0    0.0    1.0    1.0    0.0    1.0    1.0  "
      ]
     },
     "execution_count": 19,
     "metadata": {},
     "output_type": "execute_result"
    }
   ],
   "source": [
    "votes[(labels == 0) & (votes[\"party\"] == \"I\")]"
   ]
  },
  {
   "cell_type": "markdown",
   "metadata": {},
   "source": [
    "#### Plotting out the clusters"
   ]
  },
  {
   "cell_type": "code",
   "execution_count": 28,
   "metadata": {},
   "outputs": [
    {
     "data": {
      "image/png": "[encoded data removed]",
      "text/plain": [
       "<Figure size 432x288 with 1 Axes>"
      ]
     },
     "metadata": {
      "needs_background": "light"
     },
     "output_type": "display_data"
    }
   ],
   "source": [
    "plt.scatter(x=model_transform[:,0], y=model_transform[:,1], c=labels, linewidths=0)\n",
    "plt.show()"
   ]
  }
 ],
 "metadata": {
  "kernelspec": {
   "display_name": "Python 3",
   "language": "python",
   "name": "python3"
  },
  "language_info": {
   "codemirror_mode": {
    "name": "ipython",
    "version": 3
   },
   "file_extension": ".py",
   "mimetype": "text/x-python",
   "name": "python",
   "nbconvert_exporter": "python",
   "pygments_lexer": "ipython3",
   "version": "3.7.3"
  }
 },
 "nbformat": 4,
 "nbformat_minor": 2
}
